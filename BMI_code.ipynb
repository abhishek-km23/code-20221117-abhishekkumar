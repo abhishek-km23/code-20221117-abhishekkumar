{
 "cells": [
  {
   "cell_type": "code",
   "execution_count": 1,
   "id": "447a7e89",
   "metadata": {},
   "outputs": [
    {
     "data": {
      "text/plain": [
       "[{'Gender': 'Male', 'HeightCm': 171, 'WeightKg': 96},\n",
       " {'Gender': 'Male', 'HeightCm': 161, 'WeightKg': 85},\n",
       " {'Gender': 'Male', 'HeightCm': 180, 'WeightKg': 77},\n",
       " {'Gender': 'Female', 'HeightCm': 166, 'WeightKg': 62},\n",
       " {'Gender': 'Female', 'HeightCm': 150, 'WeightKg': 70},\n",
       " {'Gender': 'Female', 'HeightCm': 167, 'WeightKg': 82}]"
      ]
     },
     "execution_count": 1,
     "metadata": {},
     "output_type": "execute_result"
    }
   ],
   "source": [
    "data = [{\"Gender\": \"Male\", \"HeightCm\": 171, \"WeightKg\": 96 },\n",
    "        { \"Gender\": \"Male\", \"HeightCm\": 161, \"WeightKg\": 85 },\n",
    "        { \"Gender\": \"Male\", \"HeightCm\": 180, \"WeightKg\": 77 },\n",
    "        { \"Gender\": \"Female\", \"HeightCm\": 166, \"WeightKg\": 62},\n",
    "        {\"Gender\": \"Female\", \"HeightCm\": 150, \"WeightKg\": 70},\n",
    "        {\"Gender\": \"Female\", \"HeightCm\": 167, \"WeightKg\": 82}]\n",
    "\n",
    "data"
   ]
  },
  {
   "cell_type": "code",
   "execution_count": 6,
   "id": "fdadf568",
   "metadata": {},
   "outputs": [
    {
     "name": "stdout",
     "output_type": "stream",
     "text": [
      "Total number of overweight are:  1\n",
      "Everything passed!\n",
      "Everything passed!\n",
      "\n",
      "Data after adding BMI:\n",
      "{'Gender': 'Male', 'HeightCm': 171, 'WeightKg': 96, 'bmi': 32.83}\n",
      "{'Gender': 'Male', 'HeightCm': 161, 'WeightKg': 85, 'bmi': 32.79}\n",
      "{'Gender': 'Male', 'HeightCm': 180, 'WeightKg': 77, 'bmi': 23.77}\n",
      "{'Gender': 'Female', 'HeightCm': 166, 'WeightKg': 62, 'bmi': 22.5}\n",
      "{'Gender': 'Female', 'HeightCm': 150, 'WeightKg': 70, 'bmi': 31.11}\n",
      "{'Gender': 'Female', 'HeightCm': 167, 'WeightKg': 82, 'bmi': 29.4}\n"
     ]
    }
   ],
   "source": [
    "def calc_bmi(mass,height):\n",
    "    # mass in kg, height in cm\n",
    "    height /= 100   # converting cm into m\n",
    "    bmi = round(mass/(height**2),2)\n",
    "    return bmi\n",
    "\n",
    "def if_overweight(bmi):\n",
    "    if bmi >= 25 and bmi <= 29.9:\n",
    "        return True\n",
    "    else:\n",
    "        return False\n",
    "    \n",
    "def test_if_overweight():\n",
    "    assert if_overweight(22) == False\n",
    "    assert if_overweight(29) == True\n",
    "    assert if_overweight(30) == False\n",
    "    assert if_overweight(20) == False\n",
    "    print('Everything passed!')\n",
    "    \n",
    "def test_calc_bmi():\n",
    "    assert calc_bmi(96,171) == 32.83\n",
    "    assert calc_bmi(85,161) == 32.79\n",
    "    print('Everything passed!')\n",
    "    \n",
    "def main():\n",
    "    for row in data:\n",
    "        count = 0\n",
    "        bmi = calc_bmi(row['WeightKg'],row['HeightCm'])\n",
    "        row['bmi'] = bmi\n",
    "        if if_overweight(bmi):\n",
    "            count += 1\n",
    "    print('Total number of overweight are: ',count)\n",
    "    test_if_overweight()\n",
    "    test_calc_bmi()\n",
    "    print('\\nData after adding BMI:')\n",
    "    for row in data:\n",
    "        print(row)\n",
    "\n",
    "main()"
   ]
  },
  {
   "cell_type": "code",
   "execution_count": null,
   "id": "92cfb2a5",
   "metadata": {},
   "outputs": [],
   "source": []
  }
 ],
 "metadata": {
  "kernelspec": {
   "display_name": "Python 3 (ipykernel)",
   "language": "python",
   "name": "python3"
  },
  "language_info": {
   "codemirror_mode": {
    "name": "ipython",
    "version": 3
   },
   "file_extension": ".py",
   "mimetype": "text/x-python",
   "name": "python",
   "nbconvert_exporter": "python",
   "pygments_lexer": "ipython3",
   "version": "3.10.4"
  }
 },
 "nbformat": 4,
 "nbformat_minor": 5
}
